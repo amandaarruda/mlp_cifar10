{
  "cells": [
    {
      "cell_type": "markdown",
      "metadata": {
        "id": "BjND-9CP7R7n"
      },
      "source": [
        "# CIFAR10 com Multilayer Perceptron (MLP)\n",
        "\n",
        "\n",
        "> Este projeto tem como objetivo desenvolver e otimizar uma Rede Neural Multicamadas (**MLP - Multilayer Perceptron**) para a tarefa de classificação de imagens utilizando o dataset CIFAR-10.\n",
        "\n",
        "Ao longo do notebook, vamos utilizar o **optuna** para testar vários hyperparâmetros com o objetivo de entender melhor como eles se relacionam, afim de, melhorar a acurácia do modelo.\n"
      ]
    },
    {
      "cell_type": "markdown",
      "metadata": {
        "id": "cXaP5RNbqUb2"
      },
      "source": [
        "# Otimizações\n",
        "\n",
        "Para alcançar melhores resultados e extrair o máximo desempenho do modelo, serão aplicadas diversas estratégias de aprimoramento. Isso inclui a experimentação com diferentes otimizadores **(como Adam, SGD, AdamW)**, funções de ativação **(ReLU, Sigmoid, leaky_relu e elu)**, e técnicas de regularização **(Dropout)** para reduzir o overfitting. Além disso, será utilizado um conjunto de validação separado para monitorar as métricas ao longo do treinamento e tomar decisões mais assertivas durante o ajuste dos hiperparâmetros. O projeto também contará com a aplicação do Optuna, uma poderosa ferramenta de otimização automática de hiperparâmetros, que permitirá explorar de forma eficiente combinações de configurações que maximizem o desempenho da MLP."
      ]
    },
    {
      "cell_type": "code",
      "execution_count": null,
      "metadata": {
        "id": "2Wr3FKuJyr83",
        "colab": {
          "base_uri": "https://localhost:8080/"
        },
        "outputId": "07052091-daa7-4cee-d61c-cb01998a98ff"
      },
      "outputs": [
        {
          "output_type": "stream",
          "name": "stdout",
          "text": [
            "Collecting optuna\n",
            "  Downloading optuna-4.3.0-py3-none-any.whl.metadata (17 kB)\n",
            "Collecting alembic>=1.5.0 (from optuna)\n",
            "  Downloading alembic-1.16.1-py3-none-any.whl.metadata (7.3 kB)\n",
            "Collecting colorlog (from optuna)\n",
            "  Downloading colorlog-6.9.0-py3-none-any.whl.metadata (10 kB)\n",
            "Requirement already satisfied: numpy in /usr/local/lib/python3.11/dist-packages (from optuna) (2.0.2)\n",
            "Requirement already satisfied: packaging>=20.0 in /usr/local/lib/python3.11/dist-packages (from optuna) (24.2)\n",
            "Requirement already satisfied: sqlalchemy>=1.4.2 in /usr/local/lib/python3.11/dist-packages (from optuna) (2.0.41)\n",
            "Requirement already satisfied: tqdm in /usr/local/lib/python3.11/dist-packages (from optuna) (4.67.1)\n",
            "Requirement already satisfied: PyYAML in /usr/local/lib/python3.11/dist-packages (from optuna) (6.0.2)\n",
            "Requirement already satisfied: Mako in /usr/lib/python3/dist-packages (from alembic>=1.5.0->optuna) (1.1.3)\n",
            "Requirement already satisfied: typing-extensions>=4.12 in /usr/local/lib/python3.11/dist-packages (from alembic>=1.5.0->optuna) (4.13.2)\n",
            "Requirement already satisfied: greenlet>=1 in /usr/local/lib/python3.11/dist-packages (from sqlalchemy>=1.4.2->optuna) (3.2.2)\n",
            "Downloading optuna-4.3.0-py3-none-any.whl (386 kB)\n",
            "\u001b[2K   \u001b[90m━━━━━━━━━━━━━━━━━━━━━━━━━━━━━━━━━━━━━━━━\u001b[0m \u001b[32m386.6/386.6 kB\u001b[0m \u001b[31m29.9 MB/s\u001b[0m eta \u001b[36m0:00:00\u001b[0m\n",
            "\u001b[?25hDownloading alembic-1.16.1-py3-none-any.whl (242 kB)\n",
            "\u001b[2K   \u001b[90m━━━━━━━━━━━━━━━━━━━━━━━━━━━━━━━━━━━━━━━━\u001b[0m \u001b[32m242.5/242.5 kB\u001b[0m \u001b[31m19.7 MB/s\u001b[0m eta \u001b[36m0:00:00\u001b[0m\n",
            "\u001b[?25hDownloading colorlog-6.9.0-py3-none-any.whl (11 kB)\n",
            "Installing collected packages: colorlog, alembic, optuna\n",
            "Successfully installed alembic-1.16.1 colorlog-6.9.0 optuna-4.3.0\n"
          ]
        }
      ],
      "source": [
        "!pip install optuna"
      ]
    },
    {
      "cell_type": "markdown",
      "metadata": {
        "id": "7o_VU99u9-ka"
      },
      "source": [
        "# Pré-processamento\n",
        "\n",
        "> Para melhorar a capacidade de generalização do modelo, foram aplicadas técnicas de data augmentation apenas nos dados de treino.\n",
        "\n",
        "As transformações utilizadas:\n",
        "\n",
        "1. **RandomHorizontalFlip**: Gira horizontalmente a imagem com 50% de chance. Ajuda o modelo a não depender da orientação original dos objetos.\n",
        "2. **RandomRotation**: Rotaciona a imagem em até ±10°. Simula ângulos diferentes de visão.\n",
        "3. **ColorJitter**: Altera brilho, contraste, saturação e matiz. Faz o modelo aprender com variações de iluminação.\n",
        "\n",
        "> Essas variações simulam diferentes condições visuais, tornando o modelo mais robusto a mudanças no ambiente. Nos dados de teste, foi aplicada apenas a normalização, preservando sua integridade para uma avaliação justa.\n",
        "\n"
      ]
    },
    {
      "cell_type": "code",
      "execution_count": null,
      "metadata": {
        "id": "U106I2U1-kU8"
      },
      "outputs": [],
      "source": [
        "#@title 1. Definindo as bibliotecas utilizadas\n",
        "\n",
        "import torch\n",
        "import torch.nn as nn\n",
        "import torch.optim as optim\n",
        "import torchvision\n",
        "import torchvision.transforms as transforms\n",
        "from torch.utils.data import DataLoader, random_split\n",
        "import numpy as np\n",
        "from sklearn import metrics\n",
        "from tqdm import tqdm\n",
        "import optuna\n",
        "import matplotlib.pyplot as plt\n",
        "import seaborn as sns"
      ]
    },
    {
      "cell_type": "code",
      "execution_count": null,
      "metadata": {
        "id": "8-Y_NVBn-tpc"
      },
      "outputs": [],
      "source": [
        "#@title 2. Configurando ambiente\n",
        "device = torch.device(\"cuda\" if torch.cuda.is_available() else \"cpu\")"
      ]
    },
    {
      "cell_type": "code",
      "execution_count": null,
      "metadata": {
        "id": "aKhgiL4W-1mV"
      },
      "outputs": [],
      "source": [
        "def get_transforms():\n",
        "    train_transform = transforms.Compose([\n",
        "        transforms.RandomHorizontalFlip(p=0.5),\n",
        "        transforms.RandomRotation(10),\n",
        "        transforms.ColorJitter(brightness=0.2, contrast=0.2, saturation=0.2, hue=0.1),\n",
        "        transforms.ToTensor(),\n",
        "        transforms.Normalize((0.5, 0.5, 0.5), (0.5, 0.5, 0.5))\n",
        "    ])\n",
        "\n",
        "    test_transform = transforms.Compose([\n",
        "        transforms.ToTensor(),\n",
        "        transforms.Normalize((0.5, 0.5, 0.5), (0.5, 0.5, 0.5))\n",
        "    ])\n",
        "\n",
        "    return train_transform, test_transform"
      ]
    },
    {
      "cell_type": "markdown",
      "source": [
        "# MLP com regularização\n",
        "\n",
        "> No modelo abaixo, utilizaremos a técnica de **Dropout**, que desativa aleatoriamente parte dos neurônios durante o treino, incentivando a rede a aprender representações mais robustas."
      ],
      "metadata": {
        "id": "uwWsrOahOawC"
      }
    },
    {
      "cell_type": "code",
      "source": [
        "class MLPRegularization(nn.Module):\n",
        "    def __init__(\n",
        "        self,\n",
        "        input_size,\n",
        "        num_classes,\n",
        "        hidden_sizes=[64, 128, 64],\n",
        "        activation='relu',\n",
        "        dropout_rate=0.5\n",
        "    ):\n",
        "        super(MLPRegularization, self).__init__()\n",
        "\n",
        "        self.activations = {\n",
        "            'relu': nn.ReLU(),\n",
        "            'sigmoid': nn.Sigmoid(),\n",
        "            'leaky_relu': nn.LeakyReLU(0.01),\n",
        "            'elu': nn.ELU(),\n",
        "        }\n",
        "\n",
        "        self.activation = self.activations[activation]\n",
        "\n",
        "        layers = []\n",
        "        prev_size = input_size\n",
        "\n",
        "        for hidden_size in hidden_sizes:\n",
        "            layers.append(nn.Linear(prev_size, hidden_size))\n",
        "\n",
        "            layers.append(self.activation)\n",
        "\n",
        "            layers.append(nn.Dropout(dropout_rate))\n",
        "\n",
        "            prev_size = hidden_size\n",
        "\n",
        "        layers.append(nn.Linear(prev_size, num_classes))\n",
        "\n",
        "        self.network = nn.Sequential(*layers)\n",
        "\n",
        "    def forward(self, x):\n",
        "        return self.network(x)"
      ],
      "metadata": {
        "id": "WXGuoyTbO4mQ"
      },
      "execution_count": null,
      "outputs": []
    },
    {
      "cell_type": "code",
      "execution_count": null,
      "metadata": {
        "id": "ZUCE5PEGqyed"
      },
      "outputs": [],
      "source": [
        "#@title 3. CLASSE PARA TREINAMENTO COM VALIDAÇÃO\n",
        "class MLPTrainer:\n",
        "    def __init__(self, model, train_loader, val_loader, test_loader, device):\n",
        "        self.model = model.to(device)\n",
        "        self.train_loader = train_loader\n",
        "        self.val_loader = val_loader\n",
        "        self.test_loader = test_loader\n",
        "        self.device = device\n",
        "\n",
        "        self.train_losses = []\n",
        "        self.val_losses = []\n",
        "        self.train_accuracies = []\n",
        "        self.val_accuracies = []\n",
        "\n",
        "    def train_epoch(self, optimizer, criterion):\n",
        "        \"\"\"Treina uma época\"\"\"\n",
        "        self.model.train()\n",
        "        total_loss = 0.0\n",
        "        correct = 0\n",
        "        total = 0\n",
        "\n",
        "        for images, labels in self.train_loader:\n",
        "            images = images.view(images.size(0), -1).to(self.device)\n",
        "            labels = labels.to(self.device)\n",
        "\n",
        "            optimizer.zero_grad()\n",
        "            outputs = self.model(images)\n",
        "            loss = criterion(outputs, labels)\n",
        "            loss.backward()\n",
        "            optimizer.step()\n",
        "\n",
        "            total_loss += loss.item()\n",
        "            _, predicted = torch.max(outputs.data, 1)\n",
        "            total += labels.size(0)\n",
        "            correct += (predicted == labels).sum().item()\n",
        "\n",
        "        avg_loss = total_loss / len(self.train_loader)\n",
        "        accuracy = 100 * correct / total\n",
        "\n",
        "        return avg_loss, accuracy\n",
        "\n",
        "    def validate(self, criterion):\n",
        "        \"\"\"Avalia no conjunto de validação\"\"\"\n",
        "        self.model.eval()\n",
        "        total_loss = 0.0\n",
        "        correct = 0\n",
        "        total = 0\n",
        "\n",
        "        with torch.no_grad():\n",
        "            for images, labels in self.val_loader:\n",
        "                images = images.view(images.size(0), -1).to(self.device)\n",
        "                labels = labels.to(self.device)\n",
        "\n",
        "                outputs = self.model(images)\n",
        "                loss = criterion(outputs, labels)\n",
        "\n",
        "                total_loss += loss.item()\n",
        "                _, predicted = torch.max(outputs.data, 1)\n",
        "                total += labels.size(0)\n",
        "                correct += (predicted == labels).sum().item()\n",
        "\n",
        "        avg_loss = total_loss / len(self.val_loader)\n",
        "        accuracy = 100 * correct / total\n",
        "\n",
        "        return avg_loss, accuracy\n",
        "\n",
        "    def train(self, optimizer, criterion, num_epochs, patience=10):\n",
        "        \"\"\"Loop de treinamento completo\"\"\"\n",
        "        best_val_loss = float('inf')\n",
        "        patience_counter = 0\n",
        "\n",
        "        for epoch in tqdm(range(num_epochs), desc=\"Treinando\"):\n",
        "            # Treinar\n",
        "            train_loss, train_acc = self.train_epoch(optimizer, criterion)\n",
        "\n",
        "            # Validar\n",
        "            val_loss, val_acc = self.validate(criterion)\n",
        "\n",
        "            # Salvar histórico\n",
        "            self.train_losses.append(train_loss)\n",
        "            self.val_losses.append(val_loss)\n",
        "            self.train_accuracies.append(train_acc)\n",
        "            self.val_accuracies.append(val_acc)\n",
        "\n",
        "            # Early stopping\n",
        "            if val_loss < best_val_loss:\n",
        "                best_val_loss = val_loss\n",
        "                patience_counter = 0\n",
        "                # Salvar melhor modelo\n",
        "                torch.save(self.model.state_dict(), 'best_model.pth')\n",
        "            else:\n",
        "                patience_counter += 1\n",
        "\n",
        "            if epoch % 10 == 0:\n",
        "                print(f'Época {epoch}: Train Loss: {train_loss:.4f}, Val Loss: {val_loss:.4f}, '\n",
        "                      f'Train Acc: {train_acc:.2f}%, Val Acc: {val_acc:.2f}%')\n",
        "\n",
        "            if patience_counter >= patience:\n",
        "                print(f\"Early stopping na época {epoch}\")\n",
        "                break\n",
        "\n",
        "        self.model.load_state_dict(torch.load('best_model.pth'))\n",
        "        return self.model\n",
        "\n",
        "    def evaluate(self):\n",
        "        \"\"\"Avaliação final no conjunto de teste\"\"\"\n",
        "        self.model.eval()\n",
        "        all_preds = []\n",
        "        all_labels = []\n",
        "\n",
        "        with torch.no_grad():\n",
        "            for images, labels in self.test_loader:\n",
        "                images = images.view(images.size(0), -1).to(self.device)\n",
        "                labels = labels.to(self.device)\n",
        "\n",
        "                outputs = self.model(images)\n",
        "                _, predicted = torch.max(outputs, 1)\n",
        "\n",
        "                all_preds.extend(predicted.cpu().numpy())\n",
        "                all_labels.extend(labels.cpu().numpy())\n",
        "\n",
        "        return self.get_scores(all_labels, all_preds)\n",
        "\n",
        "    def get_scores(self, targets, predictions):\n",
        "        \"\"\"Calcula métricas de avaliação\"\"\"\n",
        "        return {\n",
        "            \"accuracy\": metrics.accuracy_score(targets, predictions),\n",
        "            \"balanced_accuracy\": metrics.balanced_accuracy_score(targets, predictions),\n",
        "            \"precision\": metrics.precision_score(targets, predictions, average=\"weighted\"),\n",
        "            \"recall\": metrics.recall_score(targets, predictions, average=\"weighted\"),\n",
        "            \"f1_score\": metrics.f1_score(targets, predictions, average=\"weighted\")\n",
        "        }\n",
        "\n",
        "    def plot_training_history(self):\n",
        "        \"\"\"Plota gráficos de treinamento\"\"\"\n",
        "        fig, (ax1, ax2) = plt.subplots(1, 2, figsize=(15, 5))\n",
        "\n",
        "        # Loss\n",
        "        ax1.plot(self.train_losses, label='Train Loss')\n",
        "        ax1.plot(self.val_losses, label='Validation Loss')\n",
        "        ax1.set_title('Model Loss')\n",
        "        ax1.set_xlabel('Epoch')\n",
        "        ax1.set_ylabel('Loss')\n",
        "        ax1.legend()\n",
        "\n",
        "        # Accuracy\n",
        "        ax2.plot(self.train_accuracies, label='Train Accuracy')\n",
        "        ax2.plot(self.val_accuracies, label='Validation Accuracy')\n",
        "        ax2.set_title('Model Accuracy')\n",
        "        ax2.set_xlabel('Epoch')\n",
        "        ax2.set_ylabel('Accuracy (%)')\n",
        "        ax2.legend()\n",
        "\n",
        "        plt.tight_layout()\n",
        "        plt.show()"
      ]
    },
    {
      "cell_type": "code",
      "source": [
        "#@title 4. OTIMIZAÇÃO DE HIPERPARÂMETROS COM OPTUNA\n",
        "def objective(trial):\n",
        "\n",
        "    lr = trial.suggest_float(\"lr\", 1e-5, 1e-2, log=True)\n",
        "    batch_size = trial.suggest_categorical(\"batch_size\", [16, 32, 64, 128])\n",
        "    hidden_size_1 = trial.suggest_int(\"hidden_size_1\", 32, 256)\n",
        "    hidden_size_2 = trial.suggest_int(\"hidden_size_2\", 64, 512)\n",
        "    hidden_size_3 = trial.suggest_int(\"hidden_size_3\", 32, 256)\n",
        "    dropout_rate = trial.suggest_float(\"dropout_rate\", 0.1, 0.7)\n",
        "    activation = trial.suggest_categorical(\"activation\", [\"relu\", \"sigmoid\", \"leaky_relu\", \"elu\"])\n",
        "    optimizer_name = trial.suggest_categorical(\"optimizer\", [\"adam\", \"sgd\", \"adamw\"])\n",
        "\n",
        "    train_transform, test_transform = get_transforms()\n",
        "\n",
        "    full_train_dataset = torchvision.datasets.CIFAR10(root='./data', train=True,\n",
        "                                                      download=True, transform=train_transform)\n",
        "\n",
        "    train_size = int(0.8 * len(full_train_dataset))\n",
        "    val_size = len(full_train_dataset) - train_size\n",
        "    train_dataset, val_dataset = random_split(full_train_dataset, [train_size, val_size])\n",
        "\n",
        "    train_loader = DataLoader(train_dataset, batch_size=batch_size, shuffle=True)\n",
        "    val_loader = DataLoader(val_dataset, batch_size=batch_size, shuffle=False)\n",
        "\n",
        "    model = MLPRegularization(\n",
        "        input_size=32*32*3,\n",
        "        num_classes=10,\n",
        "        hidden_sizes=[hidden_size_1, hidden_size_2, hidden_size_3],\n",
        "        activation=activation,\n",
        "        dropout_rate=dropout_rate\n",
        "    )\n",
        "\n",
        "    if optimizer_name == \"adam\":\n",
        "        optimizer = optim.Adam(model.parameters(), lr=lr)\n",
        "    elif optimizer_name == \"sgd\":\n",
        "        optimizer = optim.SGD(model.parameters(), lr=lr, momentum=0.9)\n",
        "    else:  # adamw\n",
        "        optimizer = optim.AdamW(model.parameters(), lr=lr)\n",
        "\n",
        "    criterion = nn.CrossEntropyLoss()\n",
        "\n",
        "    trainer = MLPTrainer(model, train_loader, val_loader, None, device)\n",
        "\n",
        "    best_val_acc = 0\n",
        "    for epoch in range(20):\n",
        "        train_loss, train_acc = trainer.train_epoch(optimizer, criterion)\n",
        "        val_loss, val_acc = trainer.validate(criterion)\n",
        "\n",
        "        if val_acc > best_val_acc:\n",
        "            best_val_acc = val_acc\n",
        "\n",
        "        trial.report(val_acc, epoch)\n",
        "        if trial.should_prune():\n",
        "            raise optuna.exceptions.TrialPruned()\n",
        "\n",
        "    return best_val_acc\n",
        "\n"
      ],
      "metadata": {
        "id": "JgKEmHmPUCmc"
      },
      "execution_count": null,
      "outputs": []
    },
    {
      "cell_type": "code",
      "source": [
        "def main():\n",
        "    print(\"1. Preparando dados...\")\n",
        "    train_transform, test_transform = get_transforms()\n",
        "\n",
        "    full_train_dataset = torchvision.datasets.CIFAR10(root='./data', train=True,\n",
        "                                                      download=True, transform=train_transform)\n",
        "    test_dataset = torchvision.datasets.CIFAR10(root='./data', train=False,\n",
        "                                               download=True, transform=test_transform)\n",
        "\n",
        "    # Dividir treino em treino e validação (80-20)\n",
        "    train_size = int(0.8 * len(full_train_dataset))\n",
        "    val_size = len(full_train_dataset) - train_size\n",
        "    train_dataset, val_dataset = random_split(full_train_dataset, [train_size, val_size])\n",
        "\n",
        "    print(f\"Tamanhos dos conjuntos - Treino: {len(train_dataset)}, Validação: {len(val_dataset)}, Teste: {len(test_dataset)}\")\n",
        "\n",
        "\n",
        "    print(\"\\n2. Otimizando hiperparâmetros...\")\n",
        "    study = optuna.create_study(direction=\"maximize\", pruner=optuna.pruners.MedianPruner())\n",
        "    study.optimize(objective, n_trials=5)\n",
        "\n",
        "    print(\"Melhores hiperparâmetros:\")\n",
        "    for key, value in study.best_params.items():\n",
        "        print(f\"  {key}: {value}\")\n",
        "\n",
        "    best_params = study.best_params\n",
        "\n",
        "    print(\"\\n3. Treinamento final...\")\n",
        "\n",
        "    train_loader = DataLoader(train_dataset, batch_size=best_params['batch_size'], shuffle=True)\n",
        "    val_loader = DataLoader(val_dataset, batch_size=best_params['batch_size'], shuffle=False)\n",
        "    test_loader = DataLoader(test_dataset, batch_size=best_params['batch_size'], shuffle=False)\n",
        "\n",
        "    model = MLPRegularization(\n",
        "        input_size=32*32*3,\n",
        "        num_classes=10,\n",
        "        hidden_sizes=[best_params['hidden_size_1'], best_params['hidden_size_2'], best_params['hidden_size_3']],\n",
        "        activation=best_params['activation'],\n",
        "        dropout_rate=best_params['dropout_rate']\n",
        "    )\n",
        "\n",
        "    # Otimizador\n",
        "    if best_params['optimizer'] == \"adam\":\n",
        "        optimizer = optim.Adam(model.parameters(), lr=best_params['lr'])\n",
        "    elif best_params['optimizer'] == \"sgd\":\n",
        "        optimizer = optim.SGD(model.parameters(), lr=best_params['lr'], momentum=0.9, weight_decay=1e-4)\n",
        "    else:\n",
        "        optimizer = optim.AdamW(model.parameters(), lr=best_params['lr'], weight_decay=1e-4)\n",
        "\n",
        "    criterion = nn.CrossEntropyLoss()\n",
        "\n",
        "    scheduler = optim.lr_scheduler.ReduceLROnPlateau(optimizer, mode='min', patience=5, factor=0.5)\n",
        "\n",
        "    trainer = MLPTrainer(model, train_loader, val_loader, test_loader, device)\n",
        "    trained_model = trainer.train(optimizer, criterion, num_epochs=50, patience=15)\n",
        "\n",
        "    print(\"\\n4. Avaliação final...\")\n",
        "    final_scores = trainer.evaluate()\n",
        "\n",
        "    print(\"\\n=== RESULTADOS FINAIS ===\")\n",
        "    for metric, score in final_scores.items():\n",
        "        print(f\"{metric.upper()}: {score:.4f}\")\n",
        "\n",
        "    print(\"\\n5. Gerando gráficos...\")\n",
        "    trainer.plot_training_history()\n",
        "\n",
        "    return trained_model, trainer\n",
        "\n",
        "if __name__ == \"__main__\":\n",
        "    model, trainer = main()"
      ],
      "metadata": {
        "id": "0c5tAv46UFCJ",
        "colab": {
          "base_uri": "https://localhost:8080/",
          "height": 1000
        },
        "outputId": "b2f969e0-4208-47a0-b9f2-f03ef1f3e32f"
      },
      "execution_count": null,
      "outputs": [
        {
          "output_type": "stream",
          "name": "stdout",
          "text": [
            "1. Preparando dados...\n"
          ]
        },
        {
          "output_type": "stream",
          "name": "stderr",
          "text": [
            "100%|██████████| 170M/170M [00:12<00:00, 13.6MB/s]\n",
            "[I 2025-06-01 22:32:57,564] A new study created in memory with name: no-name-09c0ea4b-1ef7-4f55-b4c0-732085618ca2\n"
          ]
        },
        {
          "output_type": "stream",
          "name": "stdout",
          "text": [
            "Tamanhos dos conjuntos - Treino: 40000, Validação: 10000, Teste: 10000\n",
            "\n",
            "2. Otimizando hiperparâmetros...\n"
          ]
        },
        {
          "output_type": "stream",
          "name": "stderr",
          "text": [
            "[I 2025-06-01 22:49:31,934] Trial 0 finished with value: 26.62 and parameters: {'lr': 0.002780529554220144, 'batch_size': 16, 'hidden_size_1': 216, 'hidden_size_2': 276, 'hidden_size_3': 247, 'dropout_rate': 0.42353525689757776, 'activation': 'leaky_relu', 'optimizer': 'adamw'}. Best is trial 0 with value: 26.62.\n",
            "[I 2025-06-01 23:04:00,965] Trial 1 finished with value: 25.01 and parameters: {'lr': 0.005230379368758396, 'batch_size': 128, 'hidden_size_1': 35, 'hidden_size_2': 430, 'hidden_size_3': 83, 'dropout_rate': 0.5235672391358591, 'activation': 'relu', 'optimizer': 'adamw'}. Best is trial 0 with value: 26.62.\n",
            "[I 2025-06-01 23:20:33,527] Trial 2 finished with value: 52.96 and parameters: {'lr': 0.0003426013958103395, 'batch_size': 16, 'hidden_size_1': 170, 'hidden_size_2': 155, 'hidden_size_3': 155, 'dropout_rate': 0.15748955485971802, 'activation': 'leaky_relu', 'optimizer': 'adamw'}. Best is trial 2 with value: 52.96.\n",
            "[I 2025-06-01 23:35:57,422] Trial 3 finished with value: 35.14 and parameters: {'lr': 0.007077049283955824, 'batch_size': 64, 'hidden_size_1': 185, 'hidden_size_2': 232, 'hidden_size_3': 204, 'dropout_rate': 0.5305612126418952, 'activation': 'sigmoid', 'optimizer': 'adamw'}. Best is trial 2 with value: 52.96.\n",
            "[I 2025-06-01 23:51:14,519] Trial 4 finished with value: 36.27 and parameters: {'lr': 8.736589613130692e-05, 'batch_size': 32, 'hidden_size_1': 138, 'hidden_size_2': 361, 'hidden_size_3': 225, 'dropout_rate': 0.6443393298936899, 'activation': 'elu', 'optimizer': 'sgd'}. Best is trial 2 with value: 52.96.\n"
          ]
        },
        {
          "output_type": "stream",
          "name": "stdout",
          "text": [
            "Melhores hiperparâmetros:\n",
            "  lr: 0.0003426013958103395\n",
            "  batch_size: 16\n",
            "  hidden_size_1: 170\n",
            "  hidden_size_2: 155\n",
            "  hidden_size_3: 155\n",
            "  dropout_rate: 0.15748955485971802\n",
            "  activation: leaky_relu\n",
            "  optimizer: adamw\n",
            "\n",
            "3. Treinamento final...\n"
          ]
        },
        {
          "output_type": "stream",
          "name": "stderr",
          "text": [
            "Treinando:   2%|▏         | 1/50 [00:49<40:05, 49.08s/it]"
          ]
        },
        {
          "output_type": "stream",
          "name": "stdout",
          "text": [
            "Época 0: Train Loss: 1.8178, Val Loss: 1.6673, Train Acc: 34.90%, Val Acc: 41.05%\n"
          ]
        },
        {
          "output_type": "stream",
          "name": "stderr",
          "text": [
            "Treinando:  22%|██▏       | 11/50 [09:01<32:02, 49.28s/it]"
          ]
        },
        {
          "output_type": "stream",
          "name": "stdout",
          "text": [
            "Época 10: Train Loss: 1.4194, Val Loss: 1.3795, Train Acc: 50.04%, Val Acc: 50.75%\n"
          ]
        },
        {
          "output_type": "stream",
          "name": "stderr",
          "text": [
            "Treinando:  42%|████▏     | 21/50 [17:21<24:24, 50.51s/it]"
          ]
        },
        {
          "output_type": "stream",
          "name": "stdout",
          "text": [
            "Época 20: Train Loss: 1.3348, Val Loss: 1.3458, Train Acc: 52.48%, Val Acc: 52.83%\n"
          ]
        },
        {
          "output_type": "stream",
          "name": "stderr",
          "text": [
            "Treinando:  62%|██████▏   | 31/50 [25:46<15:57, 50.39s/it]"
          ]
        },
        {
          "output_type": "stream",
          "name": "stdout",
          "text": [
            "Época 30: Train Loss: 1.2859, Val Loss: 1.3278, Train Acc: 54.42%, Val Acc: 53.33%\n"
          ]
        },
        {
          "output_type": "stream",
          "name": "stderr",
          "text": [
            "Treinando:  82%|████████▏ | 41/50 [34:10<07:35, 50.60s/it]"
          ]
        },
        {
          "output_type": "stream",
          "name": "stdout",
          "text": [
            "Época 40: Train Loss: 1.2516, Val Loss: 1.2947, Train Acc: 55.90%, Val Acc: 54.68%\n"
          ]
        },
        {
          "output_type": "stream",
          "name": "stderr",
          "text": [
            "Treinando: 100%|██████████| 50/50 [41:44<00:00, 50.08s/it]\n"
          ]
        },
        {
          "output_type": "stream",
          "name": "stdout",
          "text": [
            "\n",
            "4. Avaliação final...\n",
            "\n",
            "=== RESULTADOS FINAIS ===\n",
            "ACCURACY: 0.5607\n",
            "BALANCED_ACCURACY: 0.5607\n",
            "PRECISION: 0.5598\n",
            "RECALL: 0.5607\n",
            "F1_SCORE: 0.5575\n",
            "\n",
            "5. Gerando gráficos...\n"
          ]
        },
        {
          "output_type": "display_data",
          "data": {
            "text/plain": [
              "<Figure size 1500x500 with 2 Axes>"
            ],
            "image/png": "[encoded data removed]"
          },
          "metadata": {}
        }
      ]
    }
  ],
  "metadata": {
    "accelerator": "GPU",
    "colab": {
      "gpuType": "T4",
      "provenance": []
    },
    "kernelspec": {
      "display_name": "Python 3",
      "name": "python3"
    },
    "language_info": {
      "name": "python"
    }
  },
  "nbformat": 4,
  "nbformat_minor": 0
}